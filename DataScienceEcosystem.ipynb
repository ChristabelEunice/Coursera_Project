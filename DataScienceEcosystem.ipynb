# Data Science Tools and Ecosystem

In this notebook, Data Science Tools and Ecosystem are summarized.

**Objectives:**
    - List popular languages for Data Science
    - List commonly used libraries in Data Science
    - List three development environment open source tools used in data science
    - Show an arithmetic expression example to multiply and add numbers
    - Show an arithmetic expression example to convert minutes to hours

Some of the popular languages that Data Scientists use are:
    1. Python
    2. R
    3. SQL
    4. Scala
    5. C++
    6. Julia

Some of the commonly used libraries used by Data Scientists include:
    1. Pandas
    2. Numpy
    3. Matplotlib
    4. Seaborn
    5. Scikit-learn
    6. Keras
    7. TensorFlow
    8. PyTorch

|Data Science Tools |
| ----------------- |
| Jupyter |
| Apache Zeppelin |
| RStudio |

 ### Below are a few examples of evaluating arithmetic expressions in Python

 # This a simple arithmetic expression to mutiply then add integers
(3*4)+5

 # This will convert 200 minutes to hours by diving by 60
200/60

 ## Author
Christabel Eunice Vinisha
